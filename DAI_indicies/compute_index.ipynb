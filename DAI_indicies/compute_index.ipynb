{
 "cells": [
  {
   "cell_type": "markdown",
   "metadata": {},
   "source": [
    "### load required packages"
   ]
  },
  {
   "cell_type": "code",
   "execution_count": null,
   "metadata": {},
   "outputs": [],
   "source": [
    "import numpy as np\n",
    "import pandas as pd\n",
    "\n",
    "import statsmodels.api as sm\n",
    "from scipy import optimize\n",
    "from scipy.optimize import minimize\n",
    "\n",
    "import matplotlib.pyplot as plt\n",
    "import plotly\n",
    "import plotly.express as px\n",
    "import plotly.graph_objects as go\n",
    "from plotly.subplots import make_subplots"
   ]
  },
  {
   "cell_type": "code",
   "execution_count": null,
   "metadata": {},
   "outputs": [],
   "source": [
    "from getPriceIndex_DCS_t import *\n",
    "from getPriceIndex import *"
   ]
  },
  {
   "cell_type": "markdown",
   "metadata": {},
   "source": [
    "### load data"
   ]
  },
  {
   "cell_type": "code",
   "execution_count": null,
   "metadata": {},
   "outputs": [],
   "source": [
    "residual_df = pd.read_csv('1020_withouttime.csv', delimiter=',')\n",
    "\n",
    "residual_df = residual_df.rename(columns={'transaction_date':  'date'})\n",
    "# residual_df = residual_df.dropna()\n",
    "\n",
    "residuals = residual_df[['date', 'Heckman_result_withouttime']]\n",
    "\n",
    "# date \n",
    "list_of_date = np.array(pd.to_datetime(residuals['date']), dtype='datetime64')\n",
    "T = list_of_date.astype('float')\n",
    "ols_result = residuals.iloc[:, 1]\n",
    "discR = np.array(1, dtype='float')"
   ]
  },
  {
   "cell_type": "markdown",
   "metadata": {},
   "source": [
    "### Kalman filtering"
   ]
  },
  {
   "cell_type": "code",
   "execution_count": null,
   "metadata": {},
   "outputs": [],
   "source": [
    "heckman = Kalman_filtering(list_of_date=list_of_date, ols_resid=residual_df['Heckman_result_withouttime'], discR=discR, phi=1)\n",
    "actualDate = heckman.DataPreparation()\n",
    "heckman.ParameterEstimate()\n",
    "\n",
    "heckman_huber01 = Kalman_filtering(list_of_date=list_of_date, ols_resid=residual_df['Huber_Heckman_result_withouttime01'], discR=discR, phi=1)\n",
    "heckman_huber01.DataPreparation()\n",
    "heckman_huber01.ParameterEstimate()\n",
    "\n",
    "heckman_huber001 = Kalman_filtering(list_of_date=list_of_date, ols_resid=residual_df['Huber_Heckman_result_withouttime001'], discR=discR, phi=1)\n",
    "heckman_huber001.DataPreparation()\n",
    "heckman_huber001.ParameterEstimate()\n",
    "\n",
    "# 0.05\n",
    "heckman_huber = Kalman_filtering(list_of_date=list_of_date, ols_resid=residual_df['Huber_Heckman_result_withouttime005'], discR=discR, phi=1)\n",
    "heckman_huber.DataPreparation()\n",
    "heckman_huber.ParameterEstimate()"
   ]
  },
  {
   "cell_type": "code",
   "execution_count": null,
   "metadata": {},
   "outputs": [],
   "source": [
    "\n",
    "h_opt = minimize(heckman.ComputeLikelihood, \n",
    "                      0.5, \n",
    "                      method='Nelder-Mead',\n",
    "                      tol=1e-10)\n",
    "\n",
    "hh_opt01 = minimize(heckman_huber01.ComputeLikelihood, \n",
    "                      0.5, \n",
    "                      method='Nelder-Mead',\n",
    "                      tol=1e-10)\n",
    "\n",
    "hh_opt001 = minimize(heckman_huber001.ComputeLikelihood, \n",
    "                      0.5, \n",
    "                      method='Nelder-Mead',\n",
    "                      tol=1e-10)\n",
    "# # 0.05\n",
    "hh_opt = minimize(heckman_huber.ComputeLikelihood, \n",
    "                      0.5, \n",
    "                      method='Nelder-Mead',\n",
    "                      tol=1e-10)\n",
    "\n",
    "# lasso_opt = minimize(lasso.ComputeLikelihood, \n",
    "#                       0.5, \n",
    "#                       method='Nelder-Mead',\n",
    "#                       tol=1e-10)\n"
   ]
  },
  {
   "cell_type": "code",
   "execution_count": null,
   "metadata": {},
   "outputs": [],
   "source": [
    "h_beta = heckman.UpdateBeta(h_opt.x)\n",
    "h_index=np.exp(h_beta) / np.exp(h_beta[1]) * 100\n",
    "\n",
    "hh_beta01 = heckman_huber01.UpdateBeta(hh_opt01.x)\n",
    "hh_index01=np.exp(hh_beta01) / np.exp(hh_beta01[1]) * 100\n",
    "\n",
    "hh_beta001 = heckman_huber001.UpdateBeta(hh_opt001.x)\n",
    "hh_index001=np.exp(hh_beta001) / np.exp(hh_beta001[1]) * 100\n",
    "\n",
    "# 0.05\n",
    "hh_beta = heckman_huber.UpdateBeta(hh_opt.x)\n",
    "hh_indexP=np.exp(hh_beta) / np.exp(hh_beta[1]) * 100\n",
    "\n",
    "dates = np.array(pd.to_datetime(actualDate), dtype='datetime64')\n",
    "dates = np.datetime_as_string(dates, unit='D')\n"
   ]
  },
  {
   "cell_type": "markdown",
   "metadata": {},
   "source": [
    "#### plotting"
   ]
  },
  {
   "cell_type": "code",
   "execution_count": null,
   "metadata": {},
   "outputs": [],
   "source": [
    "fig = make_subplots(specs=[[{\"secondary_y\": False}]])\n",
    "\n",
    "fig['layout'].update(height=800, width=1200,\n",
    "                    title='',\n",
    "                    showlegend=False,\n",
    "                    font=dict(family='Times New Roman', size=12))\n",
    "\n",
    "fig.add_trace(go.Scatter(name='KF with Hackman',\n",
    "    y=h_index,\n",
    "    x=dates,\n",
    "    line=dict(color='blue', dash='dot', width=1)  \n",
    "    ), secondary_y=False)\n",
    "\n",
    "fig.add_trace(go.Scatter(name='hh_index01',\n",
    "    y=hh_index01,\n",
    "    x=dates,\n",
    "    line=dict(color='green', dash='dash', width=1)  \n",
    "    ), secondary_y=False)\n",
    "\n",
    "fig.add_trace(go.Scatter(name='hh_index001',\n",
    "    y=hh_index001,\n",
    "    x=dates,\n",
    "    line=dict(color='red', dash='solid', width=1)  \n",
    "    ), secondary_y=False)\n",
    "\n",
    "fig.add_trace(go.Scatter(name='hh_index005',\n",
    "    y=hh_indexP,\n",
    "    x=dates,\n",
    "    line=dict(color='orange', dash='dashdot', width=1)  \n",
    "    ), secondary_y=False)\n",
    "\n",
    "fig['layout']['xaxis'].update(title='Date')\n",
    "fig['layout']['yaxis'].update(title='Price index')\n",
    "\n",
    "fig.update_xaxes(showline=True, linewidth=1, linecolor='black', \n",
    "                 mirror=True,\n",
    "                 tickformat=\"%b\\n%Y\", \n",
    "                 showgrid=False,\n",
    "                 dtick = 'M1')\n",
    "fig.update_yaxes(showline=True, linewidth=1, linecolor='black', \n",
    "                 mirror=True, \n",
    "                 showgrid=False)\n",
    "\n",
    "\n",
    "fig.update_layout({'plot_bgcolor': 'rgba(0,0,0,0)',\n",
    "                   'paper_bgcolor': 'rgba(0,0,0,0)'},\n",
    "                  font_color='black',\n",
    "                  bargap=0.1)\n",
    "\n",
    "fig.show()\n",
    "fig.write_image('./kf_indices.pdf')"
   ]
  },
  {
   "cell_type": "markdown",
   "metadata": {},
   "source": [
    "### DCS-t"
   ]
  },
  {
   "cell_type": "code",
   "execution_count": null,
   "metadata": {},
   "outputs": [],
   "source": [
    "run_code = DCSt_filtering(list_of_date=list_of_date, ols_resid=ols_result, discR=discR, phi=1)\n",
    "actualDate = run_code.DataPreparation()\n",
    "\n",
    "parameter_estimate = run_code.ParameterEstimate()"
   ]
  },
  {
   "cell_type": "code",
   "execution_count": null,
   "metadata": {},
   "outputs": [],
   "source": [
    "bnds = [(18, None), (None, 1), (3.5, 5)]\n",
    "\n",
    "opt = minimize(run_code.ComputeLikelihood, \n",
    "               [150, 0, 4],\n",
    "               method='Nelder-Mead',\n",
    "               bounds=bnds,\n",
    "               tol=1e-10)"
   ]
  },
  {
   "cell_type": "code",
   "execution_count": null,
   "metadata": {},
   "outputs": [],
   "source": [
    "opt_x = opt.x\n",
    "final_Beta = run_code.UpdateBeta(opt_x)\n",
    "dcs_index= np.exp(final_Beta) /np.exp(final_Beta[1]) * 100\n",
    "dates = np.array(pd.to_datetime(actualDate),dtype='datetime64')\n",
    "dates = np.datetime_as_string(dates, unit='D')\n",
    "\n",
    "### infinity nu\n",
    "opt_x = [1.8000000e+01, 3.04926966e-03, 9999999999999]\n",
    "final_Beta_L = run_code.UpdateBeta(opt_x)\n",
    "dcs_index_L= np.exp(final_Beta_L) /np.exp(final_Beta_L[1]) * 100"
   ]
  },
  {
   "cell_type": "markdown",
   "metadata": {},
   "source": [
    "#### plotting"
   ]
  },
  {
   "cell_type": "code",
   "execution_count": null,
   "metadata": {},
   "outputs": [],
   "source": [
    "fig = make_subplots(specs=[[{\"secondary_y\": False}]])\n",
    "\n",
    "fig['layout'].update(height=800, width=1200,\n",
    "                    title='',\n",
    "                    showlegend=False,\n",
    "                    font=dict(family='Times New Roman', size=12))\n",
    "\n",
    "fig.add_trace(go.Scatter(name='hh_index001',\n",
    "    y=hh_index001,\n",
    "    x=dates,\n",
    "    line=dict(color='blue', dash='dashdot', width=1)  \n",
    "    ), secondary_y=False)\n",
    "\n",
    "fig.add_trace(go.Scatter(name='hh_index005',\n",
    "    y=hh_indexP,\n",
    "    x=dates,\n",
    "    line=dict(color='orange', dash='dot', width=1)  \n",
    "    ), secondary_y=False)\n",
    "\n",
    "fig.add_trace(go.Scatter(name='DCS-t',\n",
    "    y=dcs_index,\n",
    "    x=dates,\n",
    "    line=dict(color='red', dash='solid', width=1)  \n",
    "    ), secondary_y=False)\n",
    "\n",
    "fig.add_trace(go.Scatter(name='DCS-t with large &#957;',\n",
    "    y=dcs_index_L,\n",
    "    x=dates,\n",
    "    line=dict(color='green', dash='dash', width=1)  \n",
    "    ), secondary_y=False)\n",
    "\n",
    "\n",
    "fig['layout']['xaxis'].update(title='Date')\n",
    "fig['layout']['yaxis'].update(title='Price index')\n",
    "\n",
    "fig.update_xaxes(showline=True, linewidth=1, linecolor='black', \n",
    "                 mirror=True,\n",
    "                 tickformat=\"%b\\n%Y\", \n",
    "                 showgrid=False,\n",
    "                 dtick = 'M1')\n",
    "fig.update_yaxes(showline=True, linewidth=1, linecolor='black', \n",
    "                 mirror=True, \n",
    "                 showgrid=False)\n",
    "\n",
    "\n",
    "fig.update_layout({'plot_bgcolor': 'rgba(0,0,0,0)',\n",
    "                   'paper_bgcolor': 'rgba(0,0,0,0)'},\n",
    "                  font_color='black',\n",
    "                  bargap=0.1)\n",
    "\n",
    "fig.show()\n",
    "# fig.write_image('./kf_dcs.pdf')\n",
    "\n",
    "\n"
   ]
  },
  {
   "cell_type": "markdown",
   "metadata": {},
   "source": [
    "### compare with other markets"
   ]
  },
  {
   "cell_type": "markdown",
   "metadata": {},
   "source": [
    "#### load data"
   ]
  },
  {
   "cell_type": "code",
   "execution_count": null,
   "metadata": {},
   "outputs": [],
   "source": [
    "dai = pd.read_csv('index_df.csv')\n",
    "\n",
    "art_df = pd.read_csv('other_art.csv', delimiter=';')\n",
    "art_df = art_df.rename(columns={'Unnamed: 0': 'date'})\n",
    "art_df['date'] = pd.to_datetime(art_df['date'])\n",
    "\n",
    "art_df = art_df.set_index('date')\n",
    "\n",
    "sum_all = art_df.sum(axis=1)"
   ]
  },
  {
   "cell_type": "code",
   "execution_count": null,
   "metadata": {},
   "outputs": [],
   "source": [
    "art_df = art_df.loc['2019-03-21':'2022-03-31']\n",
    "art_df = art_df.apply(lambda x: x.div(art_df.sum(axis=1)))\n",
    "\n",
    "art_df['date'] =art_df.index\n",
    "melted_art_df = art_df.melt(id_vars=['date'])\n",
    "melted_art_df['color'] =''\n",
    "color1 = 'rgba(30, 56, 136,0.5)' \n",
    "color2 = 'rgba(71, 168, 189, 0.5)'\n",
    "color3 =  'rgba(245, 230, 99, 0.5)'\n",
    "color4 = 'rgba(255, 173, 105,0.5)'\n",
    "\n",
    "melted_art_df['color'].loc[melted_art_df['variable'] == 'Post War'] = color1\n",
    "melted_art_df['color'].loc[melted_art_df['variable'] == 'Contemporary'] = color2\n",
    "melted_art_df['color'].loc[melted_art_df['variable'] == 'Ultra Contemporary'] = color3\n",
    "melted_art_df['color'].loc[melted_art_df['variable'] == 'NFT'] = color4"
   ]
  },
  {
   "cell_type": "markdown",
   "metadata": {},
   "source": [
    "#### plotting"
   ]
  },
  {
   "cell_type": "code",
   "execution_count": null,
   "metadata": {},
   "outputs": [],
   "source": [
    "fig = make_subplots(specs=[[{\"secondary_y\": True}]])\n",
    "\n",
    "fig['layout'].update(height=800, width=1200,\n",
    "                    title='',\n",
    "                    showlegend=False,\n",
    "                    font=dict(family='Times New Roman', size=12))\n",
    "\n",
    "fig.add_trace(go.Scatter(y=dai['dcs_index'],\n",
    "                         x=dai['date'],\n",
    "                         line=dict(color='rgb(0, 0, 0)', dash='solid', width=2.5)  \n",
    "                         ), secondary_y=True)\n",
    "\n",
    "fig.add_trace(go.Bar(x=melted_art_df['date'],\n",
    "                     y=melted_art_df['value']*100,\n",
    "                     marker=dict(color=melted_art_df['color'])\n",
    "                     ), secondary_y=False)\n",
    "\n",
    "fig.update_xaxes(showline=True, linewidth=1, linecolor='black', \n",
    "                 mirror=True,\n",
    "                 tickformat=\"%b\\n%Y\", \n",
    "                 showgrid=False,\n",
    "                 dtick = 'M1')\n",
    "fig.update_yaxes(showline=True, linewidth=1, linecolor='black', \n",
    "                 mirror=True, \n",
    "                 showgrid=False)\n",
    "\n",
    "fig['layout']['xaxis'].update(title='Date')\n",
    "\n",
    "fig.update_layout({'plot_bgcolor': 'rgba(0,0,0,0)',\n",
    "                   'paper_bgcolor': 'rgba(0,0,0,0)'},\n",
    "                  font_color='black',\n",
    "                  bargap=0,\n",
    "                  yaxis=dict(title_text='Sales share (%)', \n",
    "                             side='right'\n",
    "                             ),\n",
    "                  yaxis2=dict(title_text='Price index',\n",
    "                              side='left'))\n",
    "\n",
    "fig.show()\n",
    "# fig.write_image('./compare_art.pdf')"
   ]
  }
 ],
 "metadata": {
  "kernelspec": {
   "display_name": "Python 3.8.2 64-bit",
   "language": "python",
   "name": "python3"
  },
  "language_info": {
   "name": "python",
   "version": "3.8.2"
  },
  "orig_nbformat": 4,
  "vscode": {
   "interpreter": {
    "hash": "0adcc2737ebf6a4a119f135174df96668767fca1ef1112612db5ecadf2b6d608"
   }
  }
 },
 "nbformat": 4,
 "nbformat_minor": 2
}
