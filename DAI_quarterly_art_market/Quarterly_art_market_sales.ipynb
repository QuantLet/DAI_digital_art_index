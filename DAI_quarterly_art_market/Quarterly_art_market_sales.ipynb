{
 "cells": [
  {
   "cell_type": "markdown",
   "metadata": {},
   "source": [
    "### load required packages "
   ]
  },
  {
   "cell_type": "code",
   "execution_count": null,
   "metadata": {},
   "outputs": [],
   "source": [
    "import numpy as np\n",
    "import pandas as pd\n",
    "\n",
    "import matplotlib.pyplot as plt\n",
    "import plotly\n",
    "import plotly.express as px\n",
    "import plotly.graph_objects as go\n",
    "from plotly.subplots import make_subplots"
   ]
  },
  {
   "cell_type": "markdown",
   "metadata": {},
   "source": [
    "### load data"
   ]
  },
  {
   "cell_type": "code",
   "execution_count": null,
   "metadata": {},
   "outputs": [],
   "source": [
    "art_df = pd.read_csv('quartrely_art_sales.csv', delimiter=';')\n",
    "art_df = art_df.rename(columns={'Unnamed: 0': 'Quarter'})\n",
    "art_df = art_df.set_index('Quarter')\n",
    "art_df = art_df.div(1000000)"
   ]
  },
  {
   "cell_type": "markdown",
   "metadata": {},
   "source": [
    "### plotting"
   ]
  },
  {
   "cell_type": "code",
   "execution_count": null,
   "metadata": {},
   "outputs": [],
   "source": [
    "fig = make_subplots(specs=[[{\"secondary_y\": False}]])\n",
    "\n",
    "fig['layout'].update(height=800, width=1200,\n",
    "                    title='',\n",
    "                    showlegend=False,\n",
    "                    font=dict(family='Times New Roman', size=20))\n",
    "\n",
    "fig.add_trace(go.Bar(name='Post war',\n",
    "    y=art_df['Post War'],\n",
    "    x=art_df.index,\n",
    "    marker_color='rgba(30, 56, 136,1)' ,\n",
    "    marker_line_width=0,\n",
    "    ), secondary_y=False)\n",
    "\n",
    "fig.add_trace(go.Bar(name='Contemporary',\n",
    "    y=art_df['Contemporary'],\n",
    "    x=art_df.index,\n",
    "    marker_color='rgba(71, 168, 189, 1)',\n",
    "    marker_line_width=0\n",
    "    ), secondary_y=False)\n",
    "\n",
    "fig.add_trace(go.Bar(name='Ultra contemporary',\n",
    "    y=art_df['Ultra Contemporary'],\n",
    "    x=art_df.index,\n",
    "    marker_color='rgba(245, 230, 99, 1)',\n",
    "    marker_line_width=0\n",
    "    ), secondary_y=False)\n",
    "\n",
    "fig.add_trace(go.Bar(name='NFT',\n",
    "    y=art_df['NFT'],\n",
    "    x=art_df.index,\n",
    "    marker_color='rgba(255, 173, 105,1)',\n",
    "    marker_line_width=0,\n",
    "    ), secondary_y=False)\n",
    "\n",
    "fig.add_trace(go.Scatter(name='NFT cusum',\n",
    "    y=art_df['NFT'].cumsum(),\n",
    "    x=art_df.index,\n",
    "    line=dict(color='black', dash='dot', width=2)      \n",
    "    ), secondary_y=False)\n",
    "\n",
    "fig['layout']['xaxis'].update(title='Date')\n",
    "fig['layout']['yaxis'].update(title='USD millions')\n",
    "\n",
    "fig.update_xaxes(showline=True, linewidth=1, linecolor='black', \n",
    "                 mirror=True,\n",
    "                 showgrid=False)\n",
    "fig.update_yaxes(showline=True, linewidth=1, linecolor='black', \n",
    "                 mirror=True, \n",
    "                 showgrid=False, \n",
    "                 dtick=200)\n",
    "\n",
    "\n",
    "fig.update_layout({'plot_bgcolor': 'rgba(0,0,0,0)',\n",
    "                   'paper_bgcolor': 'rgba(0,0,0,0)'},\n",
    "                  font_color='black',\n",
    "                  bargap=0.5)\n",
    "\n",
    "fig.show()\n",
    "# fig.write_image('./art_econ.pdf')\n",
    "# plotly.offline.plot(fig, filename='all_indices.html')\n",
    "\n",
    "\n"
   ]
  }
 ],
 "metadata": {
  "kernelspec": {
   "display_name": "Python 3.8.2 64-bit",
   "language": "python",
   "name": "python3"
  },
  "language_info": {
   "codemirror_mode": {
    "name": "ipython",
    "version": 3
   },
   "file_extension": ".py",
   "mimetype": "text/x-python",
   "name": "python",
   "nbconvert_exporter": "python",
   "pygments_lexer": "ipython3",
   "version": "3.8.2"
  },
  "orig_nbformat": 4,
  "vscode": {
   "interpreter": {
    "hash": "0adcc2737ebf6a4a119f135174df96668767fca1ef1112612db5ecadf2b6d608"
   }
  }
 },
 "nbformat": 4,
 "nbformat_minor": 2
}
