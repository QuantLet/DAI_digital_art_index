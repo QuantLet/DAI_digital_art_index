{
 "cells": [
  {
   "cell_type": "markdown",
   "metadata": {},
   "source": [
    "### load required packages "
   ]
  },
  {
   "cell_type": "code",
   "execution_count": null,
   "metadata": {},
   "outputs": [],
   "source": [
    "import numpy as np\n",
    "import pandas as pd\n",
    "from qq_plot import *"
   ]
  },
  {
   "cell_type": "markdown",
   "metadata": {},
   "source": [
    "### load data"
   ]
  },
  {
   "cell_type": "code",
   "execution_count": null,
   "metadata": {},
   "outputs": [],
   "source": [
    "\n",
    "residual_wt_df = pd.read_csv('1020_withtime.csv', delimiter=',')\n",
    "date_df = pd.read_csv('1020_time_dt.csv', delimiter=',')\n",
    "residual_wt_df['transaction_date'] = date_df['transaction_date']\n",
    "residual_wt_df['transaction_week'] = date_df['transaction_week']"
   ]
  },
  {
   "cell_type": "markdown",
   "metadata": {},
   "source": [
    "### box plot"
   ]
  },
  {
   "cell_type": "code",
   "execution_count": null,
   "metadata": {},
   "outputs": [],
   "source": [
    "ols_qq = qqploting(residual_wt_df['residual_ols'], \n",
    "                   axis_range=[-30,30])\n",
    "ols_qq.show()\n",
    "# ols_qq.write_image('./ols_qq.pdf')"
   ]
  },
  {
   "cell_type": "markdown",
   "metadata": {},
   "source": [
    "### time series box plot"
   ]
  },
  {
   "cell_type": "code",
   "execution_count": null,
   "metadata": {},
   "outputs": [],
   "source": [
    "plot_df = residual_wt_df.sort_values(by='transaction_date')\n",
    "mean_df = plot_df.groupby([plot_df['transaction_date']], as_index=False).mean()\n",
    "count_df = plot_df.groupby([plot_df['transaction_date']], as_index=False).count()"
   ]
  },
  {
   "cell_type": "code",
   "execution_count": null,
   "metadata": {},
   "outputs": [],
   "source": [
    "fig = make_subplots(rows=2, cols=1,\n",
    "                    vertical_spacing=0)\n",
    "\n",
    "fig['layout'].update(height=800, width=1600,\n",
    "                    title='',\n",
    "                    showlegend=False,\n",
    "                    font=dict(family='Times New Roman', size=16))\n",
    "\n",
    "fig.add_trace(go.Box(x=plot_df['transaction_date'], \n",
    "                     y=plot_df['residual_ols'], notched=False,\n",
    "                     line=dict(color='blue', width=0.5),\n",
    "                     marker=dict(size=3)),\n",
    "              row=1, col=1)\n",
    "# fig.add_trace(go.Scatter(mode='markers', x=plot_df['transaction_date'], y=plot_df['residual']), row=1, col=1)\n",
    "\n",
    "fig.add_trace(go.Scatter(x=mean_df['transaction_date'], \n",
    "                         y=mean_df['residual_ols'], \n",
    "                         line=dict(color='red')),\n",
    "              row=1, col=1)\n",
    "fig.add_trace(go.Bar(x=count_df['transaction_date'], \n",
    "                     y=count_df['residual_ols'],\n",
    "                     marker_color='green', \n",
    "                     marker_line_color='rgb(0,0,0)',\n",
    "                     marker_line_width=0),\n",
    "              row=2, col=1)\n",
    "\n",
    "fig.update_xaxes(showline=True, linewidth=1, \n",
    "                 linecolor='black', \n",
    "                 mirror=True,\n",
    "                 tickformat=\"%b\\n%Y\", \n",
    "                 showgrid=False)\n",
    "fig.update_yaxes(showline=True, linewidth=1, \n",
    "                 linecolor='black', \n",
    "                 mirror=True, \n",
    "                 showgrid=False)\n",
    "\n",
    "# Update xaxis properties\n",
    "fig.update_xaxes(showticklabels=False, row=1, col=1)\n",
    "fig.update_xaxes(title='Date', row=2, col=1, dtick = 'M1')\n",
    "\n",
    "\n",
    "# Update yaxis properties\n",
    "fig.update_yaxes(title='Residual',  range = [-30,30] ,row=1, col=1)\n",
    "fig.update_yaxes(title='Number of transactions', row=2, col=1)\n",
    "\n",
    "\n",
    "fig.update_layout({'plot_bgcolor': 'rgba(0,0,0,0)',\n",
    "                    'paper_bgcolor': 'rgba(0,0,0,0)'},                  \n",
    "                    font_color='black')\n",
    "\n",
    "fig.update_layout(bargap=0)\n",
    "\n",
    "\n",
    "fig.show()\n",
    "# fig.write_image('./ols_residuals_ts.pdf')"
   ]
  },
  {
   "cell_type": "markdown",
   "metadata": {},
   "source": [
    "### comparison between methodologies "
   ]
  },
  {
   "cell_type": "code",
   "execution_count": null,
   "metadata": {},
   "outputs": [],
   "source": [
    "fig = make_subplots(rows=2, cols=1,\n",
    "                    vertical_spacing=0)\n",
    "\n",
    "fig['layout'].update(height=800, width=1600,\n",
    "                    title='',\n",
    "                    showlegend=False,\n",
    "                    font=dict(family='Times New Roman', size=20))\n",
    "\n",
    "fig.add_trace(go.Box(x=plot_df['transaction_date'], \n",
    "                     y=plot_df['residual_heckman'], notched=False,\n",
    "                     line=dict(color='blue', width=0.5),\n",
    "                     marker=dict(size=3)),\n",
    "              row=1, col=1)\n",
    "fig.add_trace(go.Scatter(x=mean_df['transaction_date'], \n",
    "                         y=mean_df['residual_heckman'], \n",
    "                         line=dict(color='red')),\n",
    "              row=1, col=1)\n",
    "\n",
    "fig.add_trace(go.Box(x=plot_df['transaction_date'], \n",
    "                     y=plot_df['Huber_residual_heckman01'], notched=False,\n",
    "                     line=dict(color='blue', width=0.5),\n",
    "                     marker=dict(size=3)),\n",
    "              row=2, col=1)\n",
    "fig.add_trace(go.Scatter(x=mean_df['transaction_date'], \n",
    "                         y=mean_df['Huber_residual_heckman001'], \n",
    "                         line=dict(color='red')),\n",
    "              row=2, col=1)\n",
    "\n",
    "\n",
    "\n",
    "fig.update_xaxes(showline=True, linewidth=1, \n",
    "                 linecolor='black', \n",
    "                 mirror=True,\n",
    "                 tickformat=\"%b\\n%Y\", \n",
    "                 showgrid=False)\n",
    "fig.update_yaxes(showline=True, linewidth=1, \n",
    "                 linecolor='black', \n",
    "                 mirror=True, \n",
    "                 showgrid=False)\n",
    "\n",
    "# Update xaxis properties\n",
    "fig.update_xaxes(showticklabels=False, row=1, col=1)\n",
    "fig.update_xaxes(title='Date', row=2, col=1, dtick = 'M3')\n",
    "\n",
    "\n",
    "# Update yaxis properties\n",
    "fig.update_yaxes(title='After Heckman <br> residuals',  \n",
    "                 range = [-30,30],\n",
    "                 row=1, col=1)\n",
    "fig.update_yaxes(title='After Huberization with &#964;=q<sub>0.1</sub>( &#x3B5;&#x0302; ) <br> residuals',  \n",
    "                 range = [-30,30],\n",
    "                 row=2, col=1)\n",
    "\n",
    "\n",
    "fig.update_layout({'plot_bgcolor': 'rgba(0,0,0,0)',\n",
    "                    'paper_bgcolor': 'rgba(0,0,0,0)'},                  \n",
    "                    font_color='black')\n",
    "\n",
    "fig.show()\n",
    "# fig.write_image('./all_residuals_ts.pdf')\n"
   ]
  }
 ],
 "metadata": {
  "kernelspec": {
   "display_name": "Python 3.8.2 64-bit",
   "language": "python",
   "name": "python3"
  },
  "language_info": {
   "codemirror_mode": {
    "name": "ipython",
    "version": 3
   },
   "file_extension": ".py",
   "mimetype": "text/x-python",
   "name": "python",
   "nbconvert_exporter": "python",
   "pygments_lexer": "ipython3",
   "version": "3.8.2"
  },
  "orig_nbformat": 4,
  "vscode": {
   "interpreter": {
    "hash": "0adcc2737ebf6a4a119f135174df96668767fca1ef1112612db5ecadf2b6d608"
   }
  }
 },
 "nbformat": 4,
 "nbformat_minor": 2
}
