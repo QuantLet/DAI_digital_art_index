{
 "cells": [
  {
   "cell_type": "markdown",
   "metadata": {},
   "source": [
    "### load required packages"
   ]
  },
  {
   "cell_type": "code",
   "execution_count": 1,
   "metadata": {},
   "outputs": [],
   "source": [
    "import pandas as pd\n",
    "import numpy as np\n",
    "import os\n",
    "import matplotlib.pyplot as plt\n",
    "import json"
   ]
  },
  {
   "cell_type": "markdown",
   "metadata": {},
   "source": [
    "### load data"
   ]
  },
  {
   "cell_type": "code",
   "execution_count": null,
   "metadata": {},
   "outputs": [],
   "source": [
    "#if need to load from file\n",
    "X_df_all_new = pd.read_csv('./X_df_all.csv')\n",
    "y_df_all= pd.read_csv('./y_df_all.csv')\n",
    "X_df_new = X_df_all_new.drop(columns = ['Unnamed: 0'])\n",
    "X = X_df_new.values\n",
    "y_df_all1 = y_df_all.total_price\n",
    "y_df_all1[y_df_all1.isna()==True]=0\n",
    "y_df_all1[y_df_all1!= 0]= np.log(y_df_all1[y_df_all1 != 0])\n",
    "y = y_df_all1.values"
   ]
  },
  {
   "cell_type": "markdown",
   "metadata": {},
   "source": [
    "### Heckman correction"
   ]
  },
  {
   "cell_type": "code",
   "execution_count": null,
   "metadata": {},
   "outputs": [],
   "source": [
    "import copy\n",
    "select_data = copy.copy(X_df_new)\n",
    "select_data['price']= y\n",
    "select_data['transaction_date']=pd.to_datetime(u_assets['transaction_time']).dt.to_period('D')\n",
    "select_data['transaction_week']=u_assets['week']\n",
    "select_data1 = select_data[select_data['price']!=0]\n",
    "select_y = select_data1['price'].values\n",
    "select_data2 = select_data1.drop(columns = ['price','transaction_week','transaction_date'])\n",
    "select_X = select_data2.values\n",
    "\n",
    "# heckman correction (probit model)\n",
    "from statsmodels.discrete.discrete_model import Probit\n",
    "probit_y = select_data['price']!=0\n",
    "# select X included in probit model\n",
    "H_X = X_df_new.drop(columns = X_df_new.iloc[:,84:239])\n",
    "X1 = H_X.iloc[:,:84].values\n",
    "model = Probit(probit_y, X1)\n",
    "probit_model = model.fit()\n",
    "print(probit_model.summary())"
   ]
  },
  {
   "cell_type": "markdown",
   "metadata": {},
   "source": [
    "### comparison"
   ]
  },
  {
   "cell_type": "code",
   "execution_count": null,
   "metadata": {},
   "outputs": [],
   "source": [
    "#OLS model on truncated data\n",
    "import statsmodels.api as sm\n",
    "mod = sm.OLS(select_y, select_X)\n",
    "reg0 = mod.fit()\n",
    "coeff_a = reg0.params\n",
    "print(reg0.summary())"
   ]
  },
  {
   "cell_type": "code",
   "execution_count": null,
   "metadata": {},
   "outputs": [],
   "source": [
    "#corrected model\n",
    "mod = sm.OLS(select_y, correct_X)\n",
    "reg = mod.fit()\n",
    "h_coef = reg.params\n",
    "heckman_coef = pd.DataFrame(h_coef)\n",
    "print(reg.summary())"
   ]
  },
  {
   "cell_type": "markdown",
   "metadata": {},
   "source": [
    "### Huberization"
   ]
  },
  {
   "cell_type": "code",
   "execution_count": null,
   "metadata": {},
   "outputs": [],
   "source": [
    "heckman_est_y = np.dot(correct_X,heckman_coef.iloc[:,0])\n",
    "heckman_res = y[y!=0]- heckman_est_y"
   ]
  },
  {
   "cell_type": "markdown",
   "metadata": {},
   "source": [
    "#### loss function"
   ]
  },
  {
   "cell_type": "code",
   "execution_count": null,
   "metadata": {},
   "outputs": [],
   "source": [
    "def psi_fun(x, kappa_upper, kappa_lower):\n",
    "    if abs(x)<= kappa_upper and abs(x) >= kappa_lower:\n",
    "        y= x\n",
    "    elif x< kappa_lower:\n",
    "        y= kappa_lower\n",
    "    else:\n",
    "        y= kappa_upper\n",
    "    return(y)"
   ]
  },
  {
   "cell_type": "markdown",
   "metadata": {},
   "source": [
    "#### define threshold  "
   ]
  },
  {
   "cell_type": "code",
   "execution_count": null,
   "metadata": {},
   "outputs": [],
   "source": [
    "kappa_09_heckman = np.quantile(heckman_res,0.9)\n",
    "kappa_01_heckman = np.quantile(heckman_res,0.1)\n",
    "kappa_095_heckman = np.quantile(heckman_res,0.95)\n",
    "kappa_005_heckman = np.quantile(heckman_res,0.05)\n",
    "kappa_099_heckman = np.quantile(heckman_res,0.99)\n",
    "kappa_001_heckman = np.quantile(heckman_res,0.01)\n",
    "kappa_09_ols = np.quantile(reg0.resid,0.9)\n",
    "kappa_01_ols = np.quantile(reg0.resid,0.1)\n",
    "kappa_095_ols = np.quantile(reg0.resid,0.95)\n",
    "kappa_005_ols = np.quantile(reg0.resid,0.05)\n",
    "kappa_099_ols = np.quantile(reg0.resid,0.99)\n",
    "kappa_001_ols = np.quantile(reg0.resid,0.01)"
   ]
  },
  {
   "cell_type": "markdown",
   "metadata": {},
   "source": [
    "#### Huberizing"
   ]
  },
  {
   "cell_type": "code",
   "execution_count": null,
   "metadata": {},
   "outputs": [],
   "source": [
    "deno_heckman = np.array([item >kappa_005_heckman and item <kappa_095_heckman for item in heckman_res]).sum()\n",
    "deno_OLS = np.array([item >kappa_005_ols and item <kappa_095_ols for item in reg0.resid]).sum()\n",
    "huber_trans_Heckmanres= [psi_fun(item,kappa_upper=kappa_095_heckman, kappa_lower=kappa_005_heckman) for item in heckman_res]\n",
    "huber_trans_OLSres= [psi_fun(item,kappa_upper=kappa_095_ols, kappa_lower=kappa_005_ols) for item in reg0.resid]\n",
    "huber_Heckmanres = np.array(huber_trans_Heckmanres)*len(heckman_res)/deno_heckman\n",
    "huber_OLSres = np.array(huber_trans_OLSres)*len(reg0.resid)/deno_OLS\n",
    "huber_yHeckman = heckman_est_y +huber_trans_Heckmanres\n",
    "huber_yOLS = reg0.predict(select_X) +huber_OLSres"
   ]
  }
 ],
 "metadata": {
  "kernelspec": {
   "display_name": "Python 3.8.2 64-bit",
   "language": "python",
   "name": "python3"
  },
  "language_info": {
   "codemirror_mode": {
    "name": "ipython",
    "version": 3
   },
   "file_extension": ".py",
   "mimetype": "text/x-python",
   "name": "python",
   "nbconvert_exporter": "python",
   "pygments_lexer": "ipython3",
   "version": "3.8.2"
  },
  "orig_nbformat": 4,
  "vscode": {
   "interpreter": {
    "hash": "0adcc2737ebf6a4a119f135174df96668767fca1ef1112612db5ecadf2b6d608"
   }
  }
 },
 "nbformat": 4,
 "nbformat_minor": 2
}
