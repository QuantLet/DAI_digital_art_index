{
 "cells": [
  {
   "cell_type": "markdown",
   "metadata": {},
   "source": [
    "### load required documents"
   ]
  },
  {
   "cell_type": "code",
   "execution_count": 5,
   "metadata": {},
   "outputs": [],
   "source": [
    "import numpy as np\n",
    "import pandas as pd\n",
    "\n",
    "import matplotlib.pyplot as plt\n",
    "import plotly\n",
    "import plotly.express as px\n",
    "import plotly.graph_objects as go\n",
    "from plotly.subplots import make_subplots\n"
   ]
  },
  {
   "cell_type": "markdown",
   "metadata": {},
   "source": [
    "### visualization for scores "
   ]
  },
  {
   "cell_type": "code",
   "execution_count": 2,
   "metadata": {},
   "outputs": [],
   "source": [
    "# define score function\n",
    "def t_score(eps,v,sigma2):\n",
    "    return ((v+1)/v)*(eps)/(sigma2 + np.power(eps,2)/v)\n",
    "\n",
    "nu_1=np.linspace(-5,5),t_score(np.linspace(-5,5),4,1)\n",
    "nu_2=np.linspace(-5,5),t_score(np.linspace(-5,5),10,1)"
   ]
  },
  {
   "cell_type": "code",
   "execution_count": 1,
   "metadata": {},
   "outputs": [
    {
     "ename": "NameError",
     "evalue": "name 'make_subplots' is not defined",
     "output_type": "error",
     "traceback": [
      "\u001b[0;31m---------------------------------------------------------------------------\u001b[0m",
      "\u001b[0;31mNameError\u001b[0m                                 Traceback (most recent call last)",
      "\u001b[0;32m<ipython-input-1-91e0243fa472>\u001b[0m in \u001b[0;36m<module>\u001b[0;34m\u001b[0m\n\u001b[0;32m----> 1\u001b[0;31m \u001b[0mfig\u001b[0m \u001b[0;34m=\u001b[0m \u001b[0mmake_subplots\u001b[0m\u001b[0;34m(\u001b[0m\u001b[0mspecs\u001b[0m\u001b[0;34m=\u001b[0m\u001b[0;34m[\u001b[0m\u001b[0;34m[\u001b[0m\u001b[0;34m{\u001b[0m\u001b[0;34m\"secondary_y\"\u001b[0m\u001b[0;34m:\u001b[0m \u001b[0;32mFalse\u001b[0m\u001b[0;34m}\u001b[0m\u001b[0;34m]\u001b[0m\u001b[0;34m]\u001b[0m\u001b[0;34m)\u001b[0m\u001b[0;34m\u001b[0m\u001b[0;34m\u001b[0m\u001b[0m\n\u001b[0m\u001b[1;32m      2\u001b[0m \u001b[0;34m\u001b[0m\u001b[0m\n\u001b[1;32m      3\u001b[0m fig['layout'].update(height=800, width=800,\n\u001b[1;32m      4\u001b[0m                     \u001b[0mtitle\u001b[0m\u001b[0;34m=\u001b[0m\u001b[0;34m''\u001b[0m\u001b[0;34m,\u001b[0m\u001b[0;34m\u001b[0m\u001b[0;34m\u001b[0m\u001b[0m\n\u001b[1;32m      5\u001b[0m                     \u001b[0mshowlegend\u001b[0m\u001b[0;34m=\u001b[0m\u001b[0;32mFalse\u001b[0m\u001b[0;34m,\u001b[0m\u001b[0;34m\u001b[0m\u001b[0;34m\u001b[0m\u001b[0m\n",
      "\u001b[0;31mNameError\u001b[0m: name 'make_subplots' is not defined"
     ]
    }
   ],
   "source": [
    "fig = make_subplots(specs=[[{\"secondary_y\": False}]])\n",
    "\n",
    "fig['layout'].update(height=800, width=800,\n",
    "                    title='',\n",
    "                    showlegend=False,\n",
    "                    font=dict(family='Times New Roman', size=24))\n",
    "\n",
    "fig.add_trace(go.Scatter(\n",
    "    y=nu_1[1],\n",
    "    x=nu_1[0],\n",
    "    line=dict(color='red', width=3)  \n",
    "    ), secondary_y=False)\n",
    "\n",
    "fig.add_trace(go.Scatter(\n",
    "    y=nu_2[1],\n",
    "    x=nu_2[0],\n",
    "    line=dict(color='blue', dash='dash', width=3)  \n",
    "    ), secondary_y=False)\n",
    "\n",
    "fig['layout']['xaxis'].update(title='e (residual)')\n",
    "fig['layout']['yaxis'].update(title= 'u (score)')\n",
    "\n",
    "fig.update_xaxes(range = [-6,6],showline=True, linewidth=1, linecolor='black', mirror=True,\n",
    "                 tickformat=\"%b\\n%Y\", showgrid=False)\n",
    "fig.update_yaxes(range = [-6,6],showline=True, linewidth=1, linecolor='black', mirror=True, showgrid=False)\n",
    "\n",
    "fig.update_layout({'plot_bgcolor': 'rgba(0,0,0,0)',\n",
    "                   'paper_bgcolor': 'rgba(0,0,0,0)'},\n",
    "                  font_color='black',\n",
    "                  bargap=0.1)\n",
    "\n",
    "fig.add_shape(type='line', line=dict(dash='dot', color='black'), xref='paper', yref='paper', y0=0, y1=1, x0=0, x1=1)\n",
    "# fig.add_hline(y=0, line_dash='dot', line_color='black')\n",
    "\n",
    "# fig.show()\n",
    "# fig.write_image('./score.pdf')\n"
   ]
  },
  {
   "cell_type": "code",
   "execution_count": null,
   "metadata": {},
   "outputs": [],
   "source": []
  }
 ],
 "metadata": {
  "kernelspec": {
   "display_name": "Python 3.8.2 64-bit",
   "language": "python",
   "name": "python3"
  },
  "language_info": {
   "codemirror_mode": {
    "name": "ipython",
    "version": 3
   },
   "file_extension": ".py",
   "mimetype": "text/x-python",
   "name": "python",
   "nbconvert_exporter": "python",
   "pygments_lexer": "ipython3",
   "version": "3.8.2"
  },
  "orig_nbformat": 4,
  "vscode": {
   "interpreter": {
    "hash": "0adcc2737ebf6a4a119f135174df96668767fca1ef1112612db5ecadf2b6d608"
   }
  }
 },
 "nbformat": 4,
 "nbformat_minor": 2
}
